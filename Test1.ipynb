{
 "cells": [
  {
   "cell_type": "markdown",
   "metadata": {},
   "source": [
    "# Min første Jypyter Notebook\n",
    "## Tester litt ulike ting"
   ]
  },
  {
   "cell_type": "code",
   "execution_count": 3,
   "metadata": {},
   "outputs": [
    {
     "name": "stdout",
     "output_type": "stream",
     "text": [
      "Skriv inn koeffisienten foran x^2-leddet: 1\n",
      "Skriv inn koeffisienten foran x-leddet: 2\n",
      "Skriv inn konstantleddet: -2\n",
      "f(x) = 1.0x^2 + 2.0x – 2.0\n",
      "-4.99\n"
     ]
    },
    {
     "data": {
      "image/png": "[encoded data removed]",
      "text/plain": [
       "<Figure size 432x288 with 1 Axes>"
      ]
     },
     "metadata": {
      "needs_background": "light"
     },
     "output_type": "display_data"
    }
   ],
   "source": [
    "from matplotlib.pylab import *\n",
    "\n",
    "a = float(input(\"Skriv inn koeffisienten foran x^2-leddet: \"))\n",
    "b = float(input(\"Skriv inn koeffisienten foran x-leddet: \"))\n",
    "c = float(input(\"Skriv inn konstantleddet: \"))\n",
    "\n",
    "funksjon = \"f(x) = \" + str(a) + \"x^2\"\n",
    "\n",
    "if b < 0:\n",
    "    funksjon = funksjon + \" – \" + str(abs(b)) + \"x\"\n",
    "elif b > 0:\n",
    "    funksjon = funksjon + \" + \" + str(b) + \"x\"\n",
    "    \n",
    "if c < 0:\n",
    "    funksjon = funksjon + \" – \" + str(abs(c))\n",
    "elif c > 0:\n",
    "    funksjon = funksjon + \" + \" + str(c)\n",
    "\n",
    "print(funksjon)\n",
    "\n",
    "x = linspace(-5, 5, 1001)\n",
    "print(str(x[1]))\n",
    "y = a*x**2 + b*x + c\n",
    "\n",
    "plot(x, y)\n",
    "xlabel(\"x\")\n",
    "ylabel(\"y\")\n",
    "grid()\n",
    "xlim(-5,3)\n",
    "axhline(y=0, color=\"k\")\n",
    "axvline(x=0, color=\"k\")\n",
    "show()"
   ]
  },
  {
   "cell_type": "markdown",
   "metadata": {},
   "source": [
    "### Hvordan blir resultatet?\n",
    "\n",
    "Resultatet er funksjonen $f(x)=x^2+2x-2$ \n",
    "\\begin{equation}\n",
    "    f(x)=x^2 + 2x - 2\n",
    "\\end{equation}"
   ]
  },
  {
   "cell_type": "code",
   "execution_count": null,
   "metadata": {},
   "outputs": [],
   "source": []
  }
 ],
 "metadata": {
  "kernelspec": {
   "display_name": "Python 3",
   "language": "python",
   "name": "python3"
  },
  "language_info": {
   "codemirror_mode": {
    "name": "ipython",
    "version": 3
   },
   "file_extension": ".py",
   "mimetype": "text/x-python",
   "name": "python",
   "nbconvert_exporter": "python",
   "pygments_lexer": "ipython3",
   "version": "3.7.1"
  }
 },
 "nbformat": 4,
 "nbformat_minor": 2
}
